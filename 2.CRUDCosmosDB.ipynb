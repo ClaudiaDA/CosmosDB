{
 "cells": [
  {
   "cell_type": "code",
   "execution_count": 2,
   "metadata": {},
   "outputs": [
    {
     "name": "stdout",
     "output_type": "stream",
     "text": [
      "Requirement already satisfied: azure-cosmos in /usr/local/python/3.12.1/lib/python3.12/site-packages (4.7.0)\n",
      "Requirement already satisfied: azure-core>=1.25.1 in /usr/local/python/3.12.1/lib/python3.12/site-packages (from azure-cosmos) (1.31.0)\n",
      "Requirement already satisfied: typing-extensions>=4.6.0 in /home/codespace/.local/lib/python3.12/site-packages (from azure-cosmos) (4.9.0)\n",
      "Requirement already satisfied: requests>=2.21.0 in /home/codespace/.local/lib/python3.12/site-packages (from azure-core>=1.25.1->azure-cosmos) (2.32.3)\n",
      "Requirement already satisfied: six>=1.11.0 in /home/codespace/.local/lib/python3.12/site-packages (from azure-core>=1.25.1->azure-cosmos) (1.16.0)\n",
      "Requirement already satisfied: charset-normalizer<4,>=2 in /home/codespace/.local/lib/python3.12/site-packages (from requests>=2.21.0->azure-core>=1.25.1->azure-cosmos) (3.3.2)\n",
      "Requirement already satisfied: idna<4,>=2.5 in /home/codespace/.local/lib/python3.12/site-packages (from requests>=2.21.0->azure-core>=1.25.1->azure-cosmos) (3.10)\n",
      "Requirement already satisfied: urllib3<3,>=1.21.1 in /home/codespace/.local/lib/python3.12/site-packages (from requests>=2.21.0->azure-core>=1.25.1->azure-cosmos) (2.2.3)\n",
      "Requirement already satisfied: certifi>=2017.4.17 in /home/codespace/.local/lib/python3.12/site-packages (from requests>=2.21.0->azure-core>=1.25.1->azure-cosmos) (2024.8.30)\n"
     ]
    }
   ],
   "source": [
    "!pip install azure-cosmos"
   ]
  },
  {
   "cell_type": "code",
   "execution_count": 3,
   "metadata": {},
   "outputs": [],
   "source": [
    "#Endpoint   https://azcdb-cad.documents.azure.com:443/\n",
    "#key  \n",
    "COSMOS_ENDPOINT ='https://azcdb-cad.documents.azure.com:443/'\n",
    "COSMOS_KEY=''\n",
    "DATABASE_NAME='TEST'\n",
    "CONTAINER_NAME='retail'\n",
    "\n",
    "\n",
    "\n",
    "\n"
   ]
  },
  {
   "cell_type": "code",
   "execution_count": 4,
   "metadata": {},
   "outputs": [],
   "source": [
    "from azure.cosmos import CosmosClient,exceptions,PartitionKey"
   ]
  },
  {
   "cell_type": "code",
   "execution_count": 5,
   "metadata": {},
   "outputs": [],
   "source": [
    "client=CosmosClient(COSMOS_ENDPOINT,COSMOS_KEY)"
   ]
  },
  {
   "cell_type": "code",
   "execution_count": 6,
   "metadata": {},
   "outputs": [],
   "source": [
    "database=client.create_database_if_not_exists(id=DATABASE_NAME)"
   ]
  },
  {
   "cell_type": "code",
   "execution_count": 7,
   "metadata": {},
   "outputs": [],
   "source": [
    "Container = database.create_container_if_not_exists(\n",
    "    id=CONTAINER_NAME,\n",
    "    partition_key=PartitionKey(path=\"/id\"),\n",
    "    offer_throughput=400\n",
    "    )"
   ]
  },
  {
   "cell_type": "code",
   "execution_count": 8,
   "metadata": {},
   "outputs": [
    {
     "data": {
      "text/plain": [
       "dict"
      ]
     },
     "execution_count": 8,
     "metadata": {},
     "output_type": "execute_result"
    }
   ],
   "source": [
    "documento ={\n",
    "    \"id\":\"1\",\n",
    "    \"nombre\":\"A\",\n",
    "    \"descripcion\":\"Descripcion del producto A\",\n",
    "    \"precio\":\"99.99\",\n",
    "    \"categoria\":\"electronica\"\n",
    "}\n",
    "type(documento)\n"
   ]
  },
  {
   "cell_type": "code",
   "execution_count": 10,
   "metadata": {},
   "outputs": [
    {
     "data": {
      "text/plain": [
       "{'id': '1',\n",
       " 'nombre': 'A',\n",
       " 'descripcion': 'Descripcion del producto A',\n",
       " 'precio': '99.99',\n",
       " 'categoria': 'electronica',\n",
       " '_rid': 'hy0BAJzSrAgBAAAAAAAAAA==',\n",
       " '_self': 'dbs/hy0BAA==/colls/hy0BAJzSrAg=/docs/hy0BAJzSrAgBAAAAAAAAAA==/',\n",
       " '_etag': '\"00008597-0000-0200-0000-671c49260000\"',\n",
       " '_attachments': 'attachments/',\n",
       " '_ts': 1729906982}"
      ]
     },
     "execution_count": 10,
     "metadata": {},
     "output_type": "execute_result"
    }
   ],
   "source": [
    "Container.create_item(body=documento)"
   ]
  },
  {
   "cell_type": "code",
   "execution_count": 11,
   "metadata": {},
   "outputs": [
    {
     "name": "stdout",
     "output_type": "stream",
     "text": [
      "[{'id': '1', 'nombre': 'A', 'descripcion': 'Descripcion del producto A', 'precio': '99.99', 'categoria': 'electronica', '_rid': 'hy0BAJzSrAgBAAAAAAAAAA==', '_self': 'dbs/hy0BAA==/colls/hy0BAJzSrAg=/docs/hy0BAJzSrAgBAAAAAAAAAA==/', '_etag': '\"00008597-0000-0200-0000-671c49260000\"', '_attachments': 'attachments/', '_ts': 1729906982}]\n"
     ]
    }
   ],
   "source": [
    "query='select * from c'\n",
    "items=list(Container.query_items(\n",
    "    query=query,\n",
    "    enable_cross_partition_query=True\n",
    "))\n",
    "print(items)"
   ]
  }
 ],
 "metadata": {
  "kernelspec": {
   "display_name": "Python 3",
   "language": "python",
   "name": "python3"
  },
  "language_info": {
   "codemirror_mode": {
    "name": "ipython",
    "version": 3
   },
   "file_extension": ".py",
   "mimetype": "text/x-python",
   "name": "python",
   "nbconvert_exporter": "python",
   "pygments_lexer": "ipython3",
   "version": "3.12.1"
  }
 },
 "nbformat": 4,
 "nbformat_minor": 2
}
